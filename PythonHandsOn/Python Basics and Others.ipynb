{
 "cells": [
  {
   "cell_type": "markdown",
   "id": "c71fa02c-0668-4e08-90b5-bf9ea29f8e1d",
   "metadata": {},
   "source": [
    "### Python Data structures:\n",
    "\n",
    "* List\n",
    "* Tuple\n",
    "* Set\n",
    "* Dict"
   ]
  },
  {
   "cell_type": "markdown",
   "id": "7ad8d906-c964-45a9-afba-7d9a29bb8210",
   "metadata": {},
   "source": [
    "### Python Keywords\n",
    "\n",
    "Keywords are reserve words in Python programming."
   ]
  },
  {
   "cell_type": "code",
   "execution_count": 1,
   "id": "bb3e1820-3bea-4a78-ac63-edd8524a5a05",
   "metadata": {},
   "outputs": [],
   "source": [
    "import keyword # Python package"
   ]
  },
  {
   "cell_type": "code",
   "execution_count": 2,
   "id": "a7ad2f61-3691-4c4f-93ca-5c140dbfc0c4",
   "metadata": {},
   "outputs": [
    {
     "name": "stdout",
     "output_type": "stream",
     "text": [
      "['False', 'None', 'True', 'and', 'as', 'assert', 'async', 'await', 'break', 'class', 'continue', 'def', 'del', 'elif', 'else', 'except', 'finally', 'for', 'from', 'global', 'if', 'import', 'in', 'is', 'lambda', 'nonlocal', 'not', 'or', 'pass', 'raise', 'return', 'try', 'while', 'with', 'yield']\n"
     ]
    }
   ],
   "source": [
    "print(keyword.kwlist)"
   ]
  },
  {
   "cell_type": "code",
   "execution_count": null,
   "id": "985b3822-a0eb-4e98-87a2-6607e323372f",
   "metadata": {},
   "outputs": [],
   "source": [
    "import keyboard"
   ]
  },
  {
   "cell_type": "code",
   "execution_count": 1,
   "id": "d860e02b-e1e9-4f83-b7cc-cab3a01cd09d",
   "metadata": {},
   "outputs": [],
   "source": [
    "import string"
   ]
  },
  {
   "cell_type": "code",
   "execution_count": 2,
   "id": "1adad8ea-eef0-44f2-b917-dea07e533895",
   "metadata": {},
   "outputs": [],
   "source": [
    "import math"
   ]
  },
  {
   "cell_type": "code",
   "execution_count": 3,
   "id": "800d3ca3-110c-4afb-8f73-6d8f0e95c75c",
   "metadata": {},
   "outputs": [
    {
     "data": {
      "text/plain": [
       "'!\"#$%&\\'()*+,-./:;<=>?@[\\\\]^_`{|}~'"
      ]
     },
     "execution_count": 3,
     "metadata": {},
     "output_type": "execute_result"
    }
   ],
   "source": [
    "string.punctuation"
   ]
  },
  {
   "cell_type": "code",
   "execution_count": 4,
   "id": "48c1b3a2-7a8f-486b-8de3-cab9568541ab",
   "metadata": {},
   "outputs": [
    {
     "data": {
      "text/plain": [
       "'abcdefghijklmnopqrstuvwxyzABCDEFGHIJKLMNOPQRSTUVWXYZ'"
      ]
     },
     "execution_count": 4,
     "metadata": {},
     "output_type": "execute_result"
    }
   ],
   "source": [
    "string.ascii_letters"
   ]
  },
  {
   "cell_type": "code",
   "execution_count": 5,
   "id": "135114e0-bd73-4286-83a3-ecb0904e2426",
   "metadata": {},
   "outputs": [
    {
     "data": {
      "text/plain": [
       "'0123456789'"
      ]
     },
     "execution_count": 5,
     "metadata": {},
     "output_type": "execute_result"
    }
   ],
   "source": [
    "string.digits"
   ]
  },
  {
   "cell_type": "markdown",
   "id": "48f0936f-4845-4dd7-ba3f-2e2258a8b40e",
   "metadata": {},
   "source": [
    "### Dynamic Semantics\n",
    "\n",
    "Based on the nature of the data your variable decide the variable category."
   ]
  },
  {
   "cell_type": "code",
   "execution_count": 6,
   "id": "67c146c7-58b1-4768-8bfa-8ce492358383",
   "metadata": {},
   "outputs": [
    {
     "name": "stdout",
     "output_type": "stream",
     "text": [
      "All the function from list:  ['append', 'clear', 'copy', 'count', 'extend', 'index', 'insert', 'pop', 'remove', 'reverse', 'sort']\n",
      "All the function from set:  ['add', 'clear', 'copy', 'difference', 'difference_update', 'discard', 'intersection', 'intersection_update', 'isdisjoint', 'issubset', 'issuperset', 'pop', 'remove', 'symmetric_difference', 'symmetric_difference_update', 'union', 'update']\n",
      "All the function from tuple:  ['count', 'index']\n",
      "All the function from dict:  ['clear', 'copy', 'fromkeys', 'get', 'items', 'keys', 'pop', 'popitem', 'setdefault', 'update', 'values']\n"
     ]
    }
   ],
   "source": [
    "\n",
    "print(\"All the function from list: \", [i for i in dir(list) if \"__\" not in i])\n",
    "print(\"All the function from set: \", [i for i in dir(set) if \"__\" not in i])\n",
    "print(\"All the function from tuple: \", [i for i in dir(tuple) if \"__\" not in i])\n",
    "print(\"All the function from dict: \", [i for i in dir(dict) if \"__\" not in i])"
   ]
  },
  {
   "cell_type": "code",
   "execution_count": 7,
   "id": "3d0d5a98-4245-46eb-970e-7e6b4289583c",
   "metadata": {},
   "outputs": [],
   "source": [
    "i = 434"
   ]
  },
  {
   "cell_type": "code",
   "execution_count": 8,
   "id": "7f60d8ad-63eb-42eb-8814-749af0f94343",
   "metadata": {},
   "outputs": [
    {
     "data": {
      "text/plain": [
       "int"
      ]
     },
     "execution_count": 8,
     "metadata": {},
     "output_type": "execute_result"
    }
   ],
   "source": [
    "type(i)"
   ]
  },
  {
   "cell_type": "code",
   "execution_count": 9,
   "id": "e7c05647-778d-407e-a067-42678ed4641b",
   "metadata": {},
   "outputs": [
    {
     "data": {
      "text/plain": [
       "int"
      ]
     },
     "execution_count": 9,
     "metadata": {},
     "output_type": "execute_result"
    }
   ],
   "source": [
    "i = 32767\n",
    "type(i)"
   ]
  },
  {
   "cell_type": "code",
   "execution_count": 10,
   "id": "1a3b2b98-3a53-444f-b1f9-4f3be01438c5",
   "metadata": {},
   "outputs": [
    {
     "data": {
      "text/plain": [
       "32767"
      ]
     },
     "execution_count": 10,
     "metadata": {},
     "output_type": "execute_result"
    }
   ],
   "source": [
    "i"
   ]
  },
  {
   "cell_type": "code",
   "execution_count": 11,
   "id": "035c8792-ab14-4d56-a046-f8955094751e",
   "metadata": {},
   "outputs": [],
   "source": [
    "i = 28435092385902348590823904582390458243098520934850923854023590285080"
   ]
  },
  {
   "cell_type": "code",
   "execution_count": 12,
   "id": "b518936c-1e31-4602-935b-97901e2d6279",
   "metadata": {},
   "outputs": [
    {
     "data": {
      "text/plain": [
       "int"
      ]
     },
     "execution_count": 12,
     "metadata": {},
     "output_type": "execute_result"
    }
   ],
   "source": [
    "type(i)"
   ]
  },
  {
   "cell_type": "code",
   "execution_count": 13,
   "id": "d0cd759e-359d-4bee-b621-691a00085e5a",
   "metadata": {},
   "outputs": [],
   "source": [
    "i = 'Abhisheak'"
   ]
  },
  {
   "cell_type": "code",
   "execution_count": 14,
   "id": "2401e7ff-b297-4c5b-b884-3b3cbce6b587",
   "metadata": {},
   "outputs": [
    {
     "data": {
      "text/plain": [
       "str"
      ]
     },
     "execution_count": 14,
     "metadata": {},
     "output_type": "execute_result"
    }
   ],
   "source": [
    "type(i)"
   ]
  },
  {
   "cell_type": "code",
   "execution_count": 15,
   "id": "27a7f995-b912-4b53-b073-3df1944f16c6",
   "metadata": {},
   "outputs": [],
   "source": [
    "i = 10.343458920348590284590284502482908523049852394834"
   ]
  },
  {
   "cell_type": "code",
   "execution_count": 16,
   "id": "48c9f579-a12e-4e19-9de0-035ed76ac64b",
   "metadata": {},
   "outputs": [
    {
     "data": {
      "text/plain": [
       "float"
      ]
     },
     "execution_count": 16,
     "metadata": {},
     "output_type": "execute_result"
    }
   ],
   "source": [
    "type(i)"
   ]
  },
  {
   "cell_type": "code",
   "execution_count": 17,
   "id": "8db2c32d-2ef9-470e-a47e-ff3345f4352e",
   "metadata": {},
   "outputs": [],
   "source": [
    "i = True"
   ]
  },
  {
   "cell_type": "code",
   "execution_count": 18,
   "id": "688163fa-c9c4-4a97-bee7-13a17c961f3f",
   "metadata": {},
   "outputs": [
    {
     "data": {
      "text/plain": [
       "bool"
      ]
     },
     "execution_count": 18,
     "metadata": {},
     "output_type": "execute_result"
    }
   ],
   "source": [
    "type(i)"
   ]
  },
  {
   "cell_type": "code",
   "execution_count": 19,
   "id": "4468fdbf-5a8f-4bda-aa12-0b9a56dc8100",
   "metadata": {},
   "outputs": [],
   "source": [
    "i = None"
   ]
  },
  {
   "cell_type": "code",
   "execution_count": 20,
   "id": "a9391f38-5ee8-402c-a8e2-3dd781e0db22",
   "metadata": {},
   "outputs": [
    {
     "data": {
      "text/plain": [
       "NoneType"
      ]
     },
     "execution_count": 20,
     "metadata": {},
     "output_type": "execute_result"
    }
   ],
   "source": [
    "type(i)"
   ]
  },
  {
   "cell_type": "code",
   "execution_count": 21,
   "id": "a5d3a96c-ce5f-40ca-addf-4c3670c3341e",
   "metadata": {},
   "outputs": [],
   "source": [
    "i = list()"
   ]
  },
  {
   "cell_type": "code",
   "execution_count": 22,
   "id": "2f7e335c-8d9d-40e8-a659-762167089202",
   "metadata": {},
   "outputs": [
    {
     "data": {
      "text/plain": [
       "list"
      ]
     },
     "execution_count": 22,
     "metadata": {},
     "output_type": "execute_result"
    }
   ],
   "source": [
    "type(i)"
   ]
  },
  {
   "cell_type": "code",
   "execution_count": 23,
   "id": "ac652b8b-3360-464c-ae52-bbc2966005bd",
   "metadata": {},
   "outputs": [],
   "source": [
    "i = 10"
   ]
  },
  {
   "cell_type": "code",
   "execution_count": null,
   "id": "57064b01-2abd-42c8-b6f1-fef7ae14941e",
   "metadata": {},
   "outputs": [],
   "source": [
    "i = ''"
   ]
  },
  {
   "cell_type": "code",
   "execution_count": null,
   "id": "0810d762-91b7-4795-9661-29cac0b01ad0",
   "metadata": {},
   "outputs": [],
   "source": [
    "j = \" \""
   ]
  },
  {
   "cell_type": "code",
   "execution_count": 26,
   "id": "f3770640-69da-451b-8e33-301cfc8ab4a4",
   "metadata": {},
   "outputs": [],
   "source": [
    "i = 32\n",
    "j = 32"
   ]
  },
  {
   "cell_type": "code",
   "execution_count": 27,
   "id": "103ed975-3669-411a-b87e-16a3281d6e70",
   "metadata": {},
   "outputs": [
    {
     "data": {
      "text/plain": [
       "4372751088"
      ]
     },
     "execution_count": 27,
     "metadata": {},
     "output_type": "execute_result"
    }
   ],
   "source": [
    "id(i)"
   ]
  },
  {
   "cell_type": "code",
   "execution_count": 28,
   "id": "b6ac614e-217e-4f7d-9258-c44bb1aae626",
   "metadata": {},
   "outputs": [
    {
     "data": {
      "text/plain": [
       "4372751088"
      ]
     },
     "execution_count": 28,
     "metadata": {},
     "output_type": "execute_result"
    }
   ],
   "source": [
    "id(j)"
   ]
  },
  {
   "cell_type": "code",
   "execution_count": 29,
   "id": "f6b3737f-85f0-4bd7-8429-525027b96f2d",
   "metadata": {},
   "outputs": [],
   "source": [
    "j = 32.0"
   ]
  },
  {
   "cell_type": "code",
   "execution_count": 30,
   "id": "0b37902d-6a4d-41f0-9cfe-b1b9e0d33af9",
   "metadata": {},
   "outputs": [
    {
     "data": {
      "text/plain": [
       "4620653872"
      ]
     },
     "execution_count": 30,
     "metadata": {},
     "output_type": "execute_result"
    }
   ],
   "source": [
    "id(j)"
   ]
  },
  {
   "cell_type": "code",
   "execution_count": 31,
   "id": "dbd305ce-c2d5-49bf-8b81-5605c1dd4a0a",
   "metadata": {},
   "outputs": [
    {
     "data": {
      "text/plain": [
       "4422927440"
      ]
     },
     "execution_count": 31,
     "metadata": {},
     "output_type": "execute_result"
    }
   ],
   "source": [
    "i = '32'\n",
    "type(i)\n",
    "id(i)"
   ]
  },
  {
   "cell_type": "code",
   "execution_count": 32,
   "id": "d94ea875-2508-46d9-afb4-74be26df1bd0",
   "metadata": {},
   "outputs": [
    {
     "data": {
      "text/plain": [
       "4372751088"
      ]
     },
     "execution_count": 32,
     "metadata": {},
     "output_type": "execute_result"
    }
   ],
   "source": [
    "id(32)"
   ]
  },
  {
   "cell_type": "code",
   "execution_count": 33,
   "id": "dae30dba-5b81-469e-977a-5a9b712afeaf",
   "metadata": {},
   "outputs": [
    {
     "data": {
      "text/plain": [
       "'32'"
      ]
     },
     "execution_count": 33,
     "metadata": {},
     "output_type": "execute_result"
    }
   ],
   "source": [
    "i"
   ]
  },
  {
   "cell_type": "code",
   "execution_count": 34,
   "id": "c8094a4a-1a19-4a41-8c92-0ab9e69f5a54",
   "metadata": {},
   "outputs": [
    {
     "data": {
      "text/plain": [
       "4422927440"
      ]
     },
     "execution_count": 34,
     "metadata": {},
     "output_type": "execute_result"
    }
   ],
   "source": [
    "id(i)"
   ]
  },
  {
   "cell_type": "code",
   "execution_count": 35,
   "id": "695ddbbf-63e5-41fa-8def-fdc7a6617886",
   "metadata": {},
   "outputs": [],
   "source": [
    "i = 32; j = 32"
   ]
  },
  {
   "cell_type": "code",
   "execution_count": 36,
   "id": "d94fb231-17b8-40b6-9a29-792865970957",
   "metadata": {},
   "outputs": [
    {
     "data": {
      "text/plain": [
       "True"
      ]
     },
     "execution_count": 36,
     "metadata": {},
     "output_type": "execute_result"
    }
   ],
   "source": [
    "id(32) == id(i)"
   ]
  },
  {
   "cell_type": "markdown",
   "id": "500163be-a1c2-4005-bed8-324332704d89",
   "metadata": {},
   "source": [
    "### F-String"
   ]
  },
  {
   "cell_type": "code",
   "execution_count": 38,
   "id": "1fbec5cd-240c-4ab3-9e72-622503770bb2",
   "metadata": {},
   "outputs": [],
   "source": [
    "a = 20; b = 30"
   ]
  },
  {
   "cell_type": "code",
   "execution_count": 39,
   "id": "da00ff45-8068-4297-8752-b4c88c04a2fe",
   "metadata": {},
   "outputs": [
    {
     "data": {
      "text/plain": [
       "20"
      ]
     },
     "execution_count": 39,
     "metadata": {},
     "output_type": "execute_result"
    }
   ],
   "source": [
    "a"
   ]
  },
  {
   "cell_type": "code",
   "execution_count": 40,
   "id": "ef7fc7b4-17cc-43c9-a2bc-e6a5967b695f",
   "metadata": {},
   "outputs": [
    {
     "data": {
      "text/plain": [
       "30"
      ]
     },
     "execution_count": 40,
     "metadata": {},
     "output_type": "execute_result"
    }
   ],
   "source": [
    "b"
   ]
  },
  {
   "cell_type": "code",
   "execution_count": 41,
   "id": "8de9637a-55e2-458d-a7a7-7db35706e28e",
   "metadata": {},
   "outputs": [
    {
     "name": "stdout",
     "output_type": "stream",
     "text": [
      "20 30\n"
     ]
    }
   ],
   "source": [
    "print(a,b)"
   ]
  },
  {
   "cell_type": "code",
   "execution_count": 43,
   "id": "3a0be579-f0f5-45dd-9032-f054a8de6425",
   "metadata": {},
   "outputs": [
    {
     "name": "stdout",
     "output_type": "stream",
     "text": [
      "The value of a is: 20 and b is 30\n"
     ]
    }
   ],
   "source": [
    "print(\"The value of a is:\", a, \"and b is\", b)"
   ]
  },
  {
   "cell_type": "code",
   "execution_count": 46,
   "id": "6e066caa-13aa-469a-8edd-bc24c0cbffd3",
   "metadata": {},
   "outputs": [
    {
     "name": "stdout",
     "output_type": "stream",
     "text": [
      "The value of a is 20 and b is 30.\n"
     ]
    }
   ],
   "source": [
    "print(f\"The value of a is {a} and b is {b}.\")"
   ]
  },
  {
   "cell_type": "code",
   "execution_count": 47,
   "id": "2d133192-da7a-4c18-b2ef-e08b8e1d1eba",
   "metadata": {},
   "outputs": [
    {
     "name": "stdout",
     "output_type": "stream",
     "text": [
      "The value of a is 20 and b is 30\n"
     ]
    }
   ],
   "source": [
    "print(\"The value of a is {} and b is {}\".format(a,b))"
   ]
  },
  {
   "cell_type": "code",
   "execution_count": 48,
   "id": "ff237467-42c4-4257-bf32-b6919d20c1b0",
   "metadata": {},
   "outputs": [
    {
     "name": "stdout",
     "output_type": "stream",
     "text": [
      "The value of a is 30 and b is 20\n"
     ]
    }
   ],
   "source": [
    "print(\"The value of a is {1} and b is {0}\".format(a,b))"
   ]
  },
  {
   "cell_type": "markdown",
   "id": "2d58afdc-27ed-40b6-8f58-fcefd3b92b74",
   "metadata": {},
   "source": [
    "### Note:\n",
    "\n",
    "* In Python programmaing, **index** always starts from 0 to n - 1\n",
    "* Python programming is <b>case-sensitive programming</b> language."
   ]
  },
  {
   "cell_type": "markdown",
   "id": "120375a3-3510-48fe-93b3-b0ca5d5bef13",
   "metadata": {},
   "source": [
    "### Python Operators:\n",
    "\n",
    "* Arithmetic Operators\n",
    "* Membership Operators\n",
    "* Logical Operators\n",
    "* Comparision Operators"
   ]
  },
  {
   "cell_type": "markdown",
   "id": "b3e44e08-1de3-405b-8e61-cffacb4d845c",
   "metadata": {},
   "source": [
    "### Arithmetic Operators:\n",
    "+,-,*,//,%,**"
   ]
  },
  {
   "cell_type": "code",
   "execution_count": 49,
   "id": "c77f5a31-4aee-46fb-9048-925310fe60e6",
   "metadata": {},
   "outputs": [],
   "source": [
    "a = 20; b = 5"
   ]
  },
  {
   "cell_type": "code",
   "execution_count": 50,
   "id": "23e1ee6d-96eb-4be9-a569-41fa47d5734f",
   "metadata": {},
   "outputs": [
    {
     "data": {
      "text/plain": [
       "25"
      ]
     },
     "execution_count": 50,
     "metadata": {},
     "output_type": "execute_result"
    }
   ],
   "source": [
    "a + b"
   ]
  },
  {
   "cell_type": "code",
   "execution_count": 51,
   "id": "634177d1-615b-4eae-a038-8d8a9d3f1c2e",
   "metadata": {},
   "outputs": [
    {
     "data": {
      "text/plain": [
       "15"
      ]
     },
     "execution_count": 51,
     "metadata": {},
     "output_type": "execute_result"
    }
   ],
   "source": [
    "a - b"
   ]
  },
  {
   "cell_type": "code",
   "execution_count": 52,
   "id": "84f28757-5236-4958-af39-1564ab03b631",
   "metadata": {},
   "outputs": [
    {
     "data": {
      "text/plain": [
       "100"
      ]
     },
     "execution_count": 52,
     "metadata": {},
     "output_type": "execute_result"
    }
   ],
   "source": [
    "a * b"
   ]
  },
  {
   "cell_type": "code",
   "execution_count": 53,
   "id": "3a9271b8-cc0c-4746-af4e-a99a9e188727",
   "metadata": {},
   "outputs": [
    {
     "data": {
      "text/plain": [
       "4.0"
      ]
     },
     "execution_count": 53,
     "metadata": {},
     "output_type": "execute_result"
    }
   ],
   "source": [
    "a / b"
   ]
  },
  {
   "cell_type": "code",
   "execution_count": 54,
   "id": "b47cc4e8-b276-4b30-b4ad-3e26b7ce9531",
   "metadata": {},
   "outputs": [],
   "source": [
    "# Floor Division"
   ]
  },
  {
   "cell_type": "code",
   "execution_count": 60,
   "id": "b7fe176a-bad0-4c21-b18e-5c255acda738",
   "metadata": {},
   "outputs": [
    {
     "data": {
      "text/plain": [
       "20"
      ]
     },
     "execution_count": 60,
     "metadata": {},
     "output_type": "execute_result"
    }
   ],
   "source": [
    "a"
   ]
  },
  {
   "cell_type": "code",
   "execution_count": 56,
   "id": "81869db9-0e5e-478c-a0e8-d471db42b466",
   "metadata": {},
   "outputs": [
    {
     "data": {
      "text/plain": [
       "5"
      ]
     },
     "execution_count": 56,
     "metadata": {},
     "output_type": "execute_result"
    }
   ],
   "source": [
    "b"
   ]
  },
  {
   "cell_type": "code",
   "execution_count": 57,
   "id": "c38093eb-bfa4-4e91-8aaa-dc72b099f146",
   "metadata": {},
   "outputs": [
    {
     "data": {
      "text/plain": [
       "4"
      ]
     },
     "execution_count": 57,
     "metadata": {},
     "output_type": "execute_result"
    }
   ],
   "source": [
    "a // b"
   ]
  },
  {
   "cell_type": "code",
   "execution_count": 59,
   "id": "283a82ad-21c4-4170-99a6-37f9e0f15614",
   "metadata": {},
   "outputs": [
    {
     "data": {
      "text/plain": [
       "6"
      ]
     },
     "execution_count": 59,
     "metadata": {},
     "output_type": "execute_result"
    }
   ],
   "source": [
    "13 // 2"
   ]
  },
  {
   "cell_type": "markdown",
   "id": "09f7e87b-9a4f-449f-bcec-347606d32b0f",
   "metadata": {},
   "source": [
    "### Modulus Operator\n",
    "\n",
    "Gives remainder."
   ]
  },
  {
   "cell_type": "code",
   "execution_count": 62,
   "id": "3044d7c5-c3f8-4623-a4bc-5af6315c1530",
   "metadata": {},
   "outputs": [
    {
     "data": {
      "text/plain": [
       "1"
      ]
     },
     "execution_count": 62,
     "metadata": {},
     "output_type": "execute_result"
    }
   ],
   "source": [
    "13 % 3"
   ]
  },
  {
   "cell_type": "code",
   "execution_count": 63,
   "id": "bdc1b3b5-ee8c-4e91-b4fb-6e58aba8e7b3",
   "metadata": {},
   "outputs": [
    {
     "data": {
      "text/plain": [
       "3"
      ]
     },
     "execution_count": 63,
     "metadata": {},
     "output_type": "execute_result"
    }
   ],
   "source": [
    "19 % 4"
   ]
  },
  {
   "cell_type": "markdown",
   "id": "7aabfd25-ed44-4b49-a615-f3ee0e9c86f9",
   "metadata": {},
   "source": [
    "### Membership Operator: in\n",
    "\n",
    "Using this operator we can check the string - substring in your variable or object."
   ]
  },
  {
   "cell_type": "code",
   "execution_count": 65,
   "id": "126520b1-7ed3-4ef5-a744-201cce3d96dc",
   "metadata": {},
   "outputs": [],
   "source": [
    "a = 'programming is fun'"
   ]
  },
  {
   "cell_type": "code",
   "execution_count": 74,
   "id": "56683e0d-c019-4607-a773-810ab40fd438",
   "metadata": {},
   "outputs": [
    {
     "data": {
      "text/plain": [
       "False"
      ]
     },
     "execution_count": 74,
     "metadata": {},
     "output_type": "execute_result"
    }
   ],
   "source": [
    "\"mm\" in a.split()"
   ]
  },
  {
   "cell_type": "code",
   "execution_count": 66,
   "id": "27919f64-47f9-4c25-b652-14cffac614da",
   "metadata": {},
   "outputs": [
    {
     "data": {
      "text/plain": [
       "True"
      ]
     },
     "execution_count": 66,
     "metadata": {},
     "output_type": "execute_result"
    }
   ],
   "source": [
    "'is' in a"
   ]
  },
  {
   "cell_type": "code",
   "execution_count": 67,
   "id": "804b3ee1-f444-472e-8f85-df90d2aefdef",
   "metadata": {},
   "outputs": [
    {
     "data": {
      "text/plain": [
       "True"
      ]
     },
     "execution_count": 67,
     "metadata": {},
     "output_type": "execute_result"
    }
   ],
   "source": [
    "'mm' in a"
   ]
  },
  {
   "cell_type": "code",
   "execution_count": 68,
   "id": "b822d0f3-cc9f-4153-ac4f-0e5633334a12",
   "metadata": {},
   "outputs": [],
   "source": [
    "lst = [12,34,56,78,'Python','upGrad']"
   ]
  },
  {
   "cell_type": "code",
   "execution_count": null,
   "id": "d21a042d-8d2d-4f60-b54a-2df59bdeace4",
   "metadata": {},
   "outputs": [],
   "source": []
  },
  {
   "cell_type": "code",
   "execution_count": 69,
   "id": "6feaa953-aa1c-4779-9809-90e455a29050",
   "metadata": {},
   "outputs": [
    {
     "data": {
      "text/plain": [
       "True"
      ]
     },
     "execution_count": 69,
     "metadata": {},
     "output_type": "execute_result"
    }
   ],
   "source": [
    "12 in lst"
   ]
  },
  {
   "cell_type": "code",
   "execution_count": 71,
   "id": "d63e7803-792b-4e20-8647-d083f7180401",
   "metadata": {},
   "outputs": [
    {
     "data": {
      "text/plain": [
       "True"
      ]
     },
     "execution_count": 71,
     "metadata": {},
     "output_type": "execute_result"
    }
   ],
   "source": [
    "'upGrad' in lst"
   ]
  },
  {
   "cell_type": "code",
   "execution_count": null,
   "id": "be26705c-7472-45cf-aa1d-d74498ca6b99",
   "metadata": {},
   "outputs": [],
   "source": []
  },
  {
   "cell_type": "code",
   "execution_count": 72,
   "id": "e48c6321-909e-4cde-91cc-2a0f2a960257",
   "metadata": {},
   "outputs": [
    {
     "data": {
      "text/plain": [
       "'programming is fun'"
      ]
     },
     "execution_count": 72,
     "metadata": {},
     "output_type": "execute_result"
    }
   ],
   "source": [
    "a"
   ]
  },
  {
   "cell_type": "code",
   "execution_count": 75,
   "id": "9c53801a-5a9f-4a54-b68c-0284c5f78893",
   "metadata": {},
   "outputs": [
    {
     "data": {
      "text/plain": [
       "[12, 34, 56, 78, 'Python', 'upGrad']"
      ]
     },
     "execution_count": 75,
     "metadata": {},
     "output_type": "execute_result"
    }
   ],
   "source": [
    "lst"
   ]
  },
  {
   "cell_type": "code",
   "execution_count": 81,
   "id": "34a68c2c-4079-44b9-9d19-876b90267e01",
   "metadata": {},
   "outputs": [
    {
     "name": "stdout",
     "output_type": "stream",
     "text": [
      "False\n",
      "True\n"
     ]
    }
   ],
   "source": [
    "for ele in lst:\n",
    "    if type(ele) is str:\n",
    "        print('Grad' in ele)"
   ]
  },
  {
   "cell_type": "code",
   "execution_count": 82,
   "id": "337deb98-068d-45e5-81dc-a262d01a92ef",
   "metadata": {},
   "outputs": [
    {
     "data": {
      "text/plain": [
       "True"
      ]
     },
     "execution_count": 82,
     "metadata": {},
     "output_type": "execute_result"
    }
   ],
   "source": [
    "'Grad' in lst[-1]"
   ]
  },
  {
   "attachments": {
    "3c8091d3-10d3-49ca-8f8f-4ee590de2c58.png": {
     "image/png": "[encoded data removed]"
    }
   },
   "cell_type": "markdown",
   "id": "6a0aeb21-1db2-4349-9457-4e3d1c39774a",
   "metadata": {},
   "source": [
    "![image.png](attachment:3c8091d3-10d3-49ca-8f8f-4ee590de2c58.png)"
   ]
  },
  {
   "cell_type": "code",
   "execution_count": 83,
   "id": "0b52629c-ca70-4273-95b3-7baba2f527d2",
   "metadata": {},
   "outputs": [
    {
     "data": {
      "text/plain": [
       "'programming is fun'"
      ]
     },
     "execution_count": 83,
     "metadata": {},
     "output_type": "execute_result"
    }
   ],
   "source": [
    "a"
   ]
  },
  {
   "cell_type": "code",
   "execution_count": 84,
   "id": "a17392f5-95c6-48a8-96a6-d14ded414350",
   "metadata": {},
   "outputs": [
    {
     "data": {
      "text/plain": [
       "False"
      ]
     },
     "execution_count": 84,
     "metadata": {},
     "output_type": "execute_result"
    }
   ],
   "source": [
    "(a == 5) and (5 > 3)"
   ]
  },
  {
   "cell_type": "markdown",
   "id": "0dcc044b-8de8-49b1-b08e-1b33d4e78acc",
   "metadata": {},
   "source": [
    "### Comparision Operators:"
   ]
  },
  {
   "cell_type": "code",
   "execution_count": 85,
   "id": "dcf57d97-c732-489c-a52c-98bc746ab041",
   "metadata": {},
   "outputs": [],
   "source": [
    "a = 20; b = 10"
   ]
  },
  {
   "cell_type": "code",
   "execution_count": 86,
   "id": "f6237904-9a89-42a0-af0c-91486c7d9582",
   "metadata": {},
   "outputs": [
    {
     "data": {
      "text/plain": [
       "True"
      ]
     },
     "execution_count": 86,
     "metadata": {},
     "output_type": "execute_result"
    }
   ],
   "source": [
    "a > 5"
   ]
  },
  {
   "cell_type": "code",
   "execution_count": 87,
   "id": "1bcaa04b-6a8a-4e4a-829c-2cf0b1694f45",
   "metadata": {},
   "outputs": [
    {
     "data": {
      "text/plain": [
       "True"
      ]
     },
     "execution_count": 87,
     "metadata": {},
     "output_type": "execute_result"
    }
   ],
   "source": [
    "a < 50"
   ]
  },
  {
   "cell_type": "code",
   "execution_count": 88,
   "id": "28c02cba-e69d-4346-935f-ac62c96ac2c2",
   "metadata": {},
   "outputs": [
    {
     "data": {
      "text/plain": [
       "True"
      ]
     },
     "execution_count": 88,
     "metadata": {},
     "output_type": "execute_result"
    }
   ],
   "source": [
    "a <= 20"
   ]
  },
  {
   "cell_type": "code",
   "execution_count": 89,
   "id": "e4e7c44b-deec-4507-ac33-49205153c1bb",
   "metadata": {},
   "outputs": [
    {
     "data": {
      "text/plain": [
       "True"
      ]
     },
     "execution_count": 89,
     "metadata": {},
     "output_type": "execute_result"
    }
   ],
   "source": [
    "a != 10"
   ]
  },
  {
   "cell_type": "code",
   "execution_count": 90,
   "id": "d120efcb-7b61-48fe-a470-9f56b01ab776",
   "metadata": {},
   "outputs": [
    {
     "data": {
      "text/plain": [
       "False"
      ]
     },
     "execution_count": 90,
     "metadata": {},
     "output_type": "execute_result"
    }
   ],
   "source": [
    "((a == 20) and (15 < b)) or ((10 != 15) and (a > 10) and (10 >= 20)) "
   ]
  },
  {
   "cell_type": "code",
   "execution_count": 91,
   "id": "38acaded-b8a2-4cf8-ab26-b093211f9ef5",
   "metadata": {},
   "outputs": [
    {
     "data": {
      "text/plain": [
       "True"
      ]
     },
     "execution_count": 91,
     "metadata": {},
     "output_type": "execute_result"
    }
   ],
   "source": [
    "(a == 20) or (15 < b)"
   ]
  },
  {
   "cell_type": "code",
   "execution_count": 92,
   "id": "dca86903-d3b6-42af-8798-0fc16d63c048",
   "metadata": {},
   "outputs": [
    {
     "data": {
      "text/plain": [
       "False"
      ]
     },
     "execution_count": 92,
     "metadata": {},
     "output_type": "execute_result"
    }
   ],
   "source": [
    "not((a == 20) or (15 < b))"
   ]
  },
  {
   "cell_type": "code",
   "execution_count": 93,
   "id": "29265e2e-0b9c-42d1-8a8a-acd2bdfe494f",
   "metadata": {},
   "outputs": [
    {
     "data": {
      "text/plain": [
       "[12, 34, 56, 78, 'Python', 'upGrad']"
      ]
     },
     "execution_count": 93,
     "metadata": {},
     "output_type": "execute_result"
    }
   ],
   "source": [
    "lst"
   ]
  },
  {
   "cell_type": "code",
   "execution_count": 94,
   "id": "6a9a1f66-8a26-4c50-8b7a-69c34658d563",
   "metadata": {},
   "outputs": [
    {
     "data": {
      "text/plain": [
       "True"
      ]
     },
     "execution_count": 94,
     "metadata": {},
     "output_type": "execute_result"
    }
   ],
   "source": [
    "78 in lst"
   ]
  },
  {
   "cell_type": "code",
   "execution_count": 95,
   "id": "e51e3c0b-6804-46ae-9bcf-ed8839927b24",
   "metadata": {},
   "outputs": [
    {
     "data": {
      "text/plain": [
       "False"
      ]
     },
     "execution_count": 95,
     "metadata": {},
     "output_type": "execute_result"
    }
   ],
   "source": [
    "'Modi' in lst"
   ]
  },
  {
   "cell_type": "code",
   "execution_count": 96,
   "id": "6182237b-5af6-47b0-9282-2960ee51b16e",
   "metadata": {},
   "outputs": [
    {
     "data": {
      "text/plain": [
       "True"
      ]
     },
     "execution_count": 96,
     "metadata": {},
     "output_type": "execute_result"
    }
   ],
   "source": [
    "'Modi' not in lst"
   ]
  },
  {
   "cell_type": "code",
   "execution_count": null,
   "id": "2d7ec583-5901-4b3e-b22d-f97c7c461dfe",
   "metadata": {},
   "outputs": [],
   "source": [
    "a == 5 and b < 15 or c > 20"
   ]
  },
  {
   "cell_type": "code",
   "execution_count": null,
   "id": "e0f1b57b-1eb7-4841-9342-164167d964ea",
   "metadata": {},
   "outputs": [],
   "source": [
    "((a == 5) and (b < 15)) or (c > 20)"
   ]
  },
  {
   "cell_type": "code",
   "execution_count": null,
   "id": "781bab74-0d00-4d3c-9726-8c19be5998de",
   "metadata": {},
   "outputs": [],
   "source": [
    "(a == 5) and ((b < 15) or (c > 20))"
   ]
  },
  {
   "cell_type": "code",
   "execution_count": null,
   "id": "e10db712-dc97-48fe-8899-b661e92613a8",
   "metadata": {},
   "outputs": [],
   "source": []
  },
  {
   "cell_type": "markdown",
   "id": "766699f9-be39-4a22-960c-017aef9ae79d",
   "metadata": {},
   "source": [
    "* ()\n",
    "* ** (Exponentation)\n",
    "* bitwise (Unary Plus, Minus, bitwise not) -> +x, -x, ~x\n",
    "* *,/,//,% (mul, div, floor div, modulus)\n",
    "* +,-\n",
    "* &\n",
    "* |, ^\n",
    "* not (logical)\n",
    "* and (logical)\n",
    "* or (logical)"
   ]
  },
  {
   "cell_type": "code",
   "execution_count": 97,
   "id": "5f2d768e-9ffd-4c5a-aafd-72fd5c576d6a",
   "metadata": {},
   "outputs": [
    {
     "data": {
      "text/plain": [
       "11"
      ]
     },
     "execution_count": 97,
     "metadata": {},
     "output_type": "execute_result"
    }
   ],
   "source": [
    "5 + 3 * 2"
   ]
  },
  {
   "cell_type": "code",
   "execution_count": 98,
   "id": "704d818e-788d-489e-89ce-f30ef9fd287e",
   "metadata": {},
   "outputs": [
    {
     "data": {
      "text/plain": [
       "32"
      ]
     },
     "execution_count": 98,
     "metadata": {},
     "output_type": "execute_result"
    }
   ],
   "source": [
    "2 ** 3 * 4"
   ]
  },
  {
   "cell_type": "code",
   "execution_count": 101,
   "id": "19801838-04ce-4fc5-88c2-5f43ea0b3c64",
   "metadata": {},
   "outputs": [
    {
     "data": {
      "text/plain": [
       "True"
      ]
     },
     "execution_count": 101,
     "metadata": {},
     "output_type": "execute_result"
    }
   ],
   "source": [
    "True or False and True"
   ]
  },
  {
   "cell_type": "code",
   "execution_count": 102,
   "id": "05c22453-3491-4f4e-816b-2ef66be5af0d",
   "metadata": {},
   "outputs": [
    {
     "data": {
      "text/plain": [
       "1"
      ]
     },
     "execution_count": 102,
     "metadata": {},
     "output_type": "execute_result"
    }
   ],
   "source": [
    "5 & 3"
   ]
  },
  {
   "cell_type": "code",
   "execution_count": 103,
   "id": "8654b91c-999e-437b-8777-95f61f1104f7",
   "metadata": {},
   "outputs": [],
   "source": [
    "# & -> and\n",
    "# | -> or"
   ]
  },
  {
   "cell_type": "code",
   "execution_count": 104,
   "id": "fce885ce-2125-43fd-a79c-43489c86a002",
   "metadata": {},
   "outputs": [
    {
     "data": {
      "text/plain": [
       "'0b101'"
      ]
     },
     "execution_count": 104,
     "metadata": {},
     "output_type": "execute_result"
    }
   ],
   "source": [
    "bin(5)"
   ]
  },
  {
   "cell_type": "code",
   "execution_count": 105,
   "id": "b40ca893-5c30-4524-9097-bf924abd5d0f",
   "metadata": {},
   "outputs": [
    {
     "data": {
      "text/plain": [
       "'0b11'"
      ]
     },
     "execution_count": 105,
     "metadata": {},
     "output_type": "execute_result"
    }
   ],
   "source": [
    "bin(3)"
   ]
  },
  {
   "cell_type": "code",
   "execution_count": null,
   "id": "1c8e4077-8c1a-4665-bb5b-f17e44015ab6",
   "metadata": {},
   "outputs": [],
   "source": [
    "1 0 1\n",
    "0 1 1\n",
    "_______ &\n",
    "0 0 1"
   ]
  },
  {
   "cell_type": "code",
   "execution_count": 106,
   "id": "5000ed3c-d7f1-4f1c-84ba-f2884ffff457",
   "metadata": {},
   "outputs": [
    {
     "name": "stdout",
     "output_type": "stream",
     "text": [
      "1\n"
     ]
    }
   ],
   "source": [
    "print(0b001)"
   ]
  },
  {
   "cell_type": "code",
   "execution_count": 107,
   "id": "2ba3f952-9f39-40f1-a944-992514e5bd2d",
   "metadata": {},
   "outputs": [
    {
     "data": {
      "text/plain": [
       "7"
      ]
     },
     "execution_count": 107,
     "metadata": {},
     "output_type": "execute_result"
    }
   ],
   "source": [
    "5 | 3"
   ]
  },
  {
   "cell_type": "code",
   "execution_count": null,
   "id": "d0631279-e1c8-4b4d-8836-459d4d47f131",
   "metadata": {},
   "outputs": [],
   "source": [
    "1 0 1\n",
    "0 1 1\n",
    "_______ &\n",
    "1 1 1"
   ]
  },
  {
   "cell_type": "code",
   "execution_count": 108,
   "id": "925889f7-3f60-4300-9839-0c103cb6ebc2",
   "metadata": {},
   "outputs": [
    {
     "name": "stdout",
     "output_type": "stream",
     "text": [
      "7\n"
     ]
    }
   ],
   "source": [
    "print(0b111)"
   ]
  },
  {
   "cell_type": "markdown",
   "id": "f8df3248-3237-4fae-a07b-cbb413a63dfb",
   "metadata": {},
   "source": [
    "### Python String and Control structure"
   ]
  },
  {
   "cell_type": "markdown",
   "id": "897535c3-6266-44fa-a4dd-a3f452146db2",
   "metadata": {},
   "source": [
    "### Python String\n",
    "\n",
    "In Python, strings are enclosed with single,double and triple quotes, strings are immutable (unchangeable).\n",
    "\n",
    "In Python, we donot have any char data type, a single char represent a string with length 1."
   ]
  },
  {
   "cell_type": "code",
   "execution_count": 109,
   "id": "abb6fe5e-5a9e-466e-ad0e-165fe33e4062",
   "metadata": {},
   "outputs": [],
   "source": [
    "st = 'Python'"
   ]
  },
  {
   "cell_type": "code",
   "execution_count": 110,
   "id": "284551f7-8c67-427a-8046-8c1751f2d6aa",
   "metadata": {},
   "outputs": [
    {
     "data": {
      "text/plain": [
       "str"
      ]
     },
     "execution_count": 110,
     "metadata": {},
     "output_type": "execute_result"
    }
   ],
   "source": [
    "type(st)"
   ]
  },
  {
   "cell_type": "code",
   "execution_count": 111,
   "id": "f7a73614-c7ce-41f7-8379-a39622a04c57",
   "metadata": {},
   "outputs": [],
   "source": [
    "st1 = \"Python\""
   ]
  },
  {
   "cell_type": "code",
   "execution_count": 112,
   "id": "30e0bffd-56f9-4b0d-8c87-c68ebea6977e",
   "metadata": {},
   "outputs": [
    {
     "data": {
      "text/plain": [
       "str"
      ]
     },
     "execution_count": 112,
     "metadata": {},
     "output_type": "execute_result"
    }
   ],
   "source": [
    "type(st1)"
   ]
  },
  {
   "cell_type": "code",
   "execution_count": 113,
   "id": "4a635a2f-9d8f-4970-9163-34bc50fd93f1",
   "metadata": {},
   "outputs": [],
   "source": [
    "st2 = '''This is testing line.'''"
   ]
  },
  {
   "cell_type": "code",
   "execution_count": 114,
   "id": "17a1275c-83d6-464b-92ba-54b70f5d410f",
   "metadata": {},
   "outputs": [
    {
     "data": {
      "text/plain": [
       "str"
      ]
     },
     "execution_count": 114,
     "metadata": {},
     "output_type": "execute_result"
    }
   ],
   "source": [
    "type(st2)"
   ]
  },
  {
   "cell_type": "markdown",
   "id": "4976ad4a-d41a-4231-9fdf-0caa9cc5fcaa",
   "metadata": {},
   "source": [
    "### All the functions from Strings:"
   ]
  },
  {
   "cell_type": "code",
   "execution_count": 115,
   "id": "e2872425-7953-4ea6-b2ce-4eb3f7fb40a1",
   "metadata": {},
   "outputs": [
    {
     "name": "stdout",
     "output_type": "stream",
     "text": [
      "All the function from string:  ['capitalize', 'casefold', 'center', 'count', 'encode', 'endswith', 'expandtabs', 'find', 'format', 'format_map', 'index', 'isalnum', 'isalpha', 'isascii', 'isdecimal', 'isdigit', 'isidentifier', 'islower', 'isnumeric', 'isprintable', 'isspace', 'istitle', 'isupper', 'join', 'ljust', 'lower', 'lstrip', 'maketrans', 'partition', 'removeprefix', 'removesuffix', 'replace', 'rfind', 'rindex', 'rjust', 'rpartition', 'rsplit', 'rstrip', 'split', 'splitlines', 'startswith', 'strip', 'swapcase', 'title', 'translate', 'upper', 'zfill']\n"
     ]
    }
   ],
   "source": [
    "print(\"All the function from string: \", [i for i in dir(str) if \"__\" not in i])"
   ]
  },
  {
   "cell_type": "markdown",
   "id": "e97fec81-612e-40ee-a7c4-d549b3659399",
   "metadata": {},
   "source": [
    "### String Operatos"
   ]
  },
  {
   "cell_type": "code",
   "execution_count": 118,
   "id": "d31178d9-0125-4709-9b33-4209d78fd38a",
   "metadata": {},
   "outputs": [],
   "source": [
    "st = 'upGrad'"
   ]
  },
  {
   "cell_type": "code",
   "execution_count": 120,
   "id": "9db77702-1c90-4858-8848-089491da29d4",
   "metadata": {},
   "outputs": [
    {
     "data": {
      "text/plain": [
       "'upGrad Education'"
      ]
     },
     "execution_count": 120,
     "metadata": {},
     "output_type": "execute_result"
    }
   ],
   "source": [
    "st + ' Education'"
   ]
  },
  {
   "cell_type": "code",
   "execution_count": 121,
   "id": "4422ac6e-b70a-4e3c-83be-09e55b9de0c1",
   "metadata": {},
   "outputs": [],
   "source": [
    "st = 'Programming'"
   ]
  },
  {
   "cell_type": "markdown",
   "id": "599a0105-7713-4fab-8d23-cf0ac7d9dbc1",
   "metadata": {},
   "source": [
    "### Slicing\n",
    "\n",
    "In Python, Index will starts from 0 to n - 1"
   ]
  },
  {
   "cell_type": "code",
   "execution_count": 122,
   "id": "bdcacf6b-e580-419f-aea4-4129ec635dff",
   "metadata": {},
   "outputs": [
    {
     "data": {
      "text/plain": [
       "'Programming'"
      ]
     },
     "execution_count": 122,
     "metadata": {},
     "output_type": "execute_result"
    }
   ],
   "source": [
    "st"
   ]
  },
  {
   "cell_type": "code",
   "execution_count": 123,
   "id": "c80ca6b6-37e9-465e-a7d6-3f2085e656bb",
   "metadata": {},
   "outputs": [
    {
     "data": {
      "text/plain": [
       "'P'"
      ]
     },
     "execution_count": 123,
     "metadata": {},
     "output_type": "execute_result"
    }
   ],
   "source": [
    "st[0]"
   ]
  },
  {
   "cell_type": "code",
   "execution_count": 124,
   "id": "eb71da85-ca79-4e02-9dee-570f7857b27c",
   "metadata": {},
   "outputs": [
    {
     "data": {
      "text/plain": [
       "'g'"
      ]
     },
     "execution_count": 124,
     "metadata": {},
     "output_type": "execute_result"
    }
   ],
   "source": [
    "st[-1]"
   ]
  },
  {
   "attachments": {
    "48d328f2-7717-4fd5-9c70-db46ce05fb55.png": {
     "image/png": "[encoded data removed]"
    }
   },
   "cell_type": "markdown",
   "id": "6455012c-0e42-47ff-9645-ba948fcc7391",
   "metadata": {},
   "source": [
    "![image.png](attachment:48d328f2-7717-4fd5-9c70-db46ce05fb55.png)"
   ]
  },
  {
   "cell_type": "code",
   "execution_count": 125,
   "id": "47ba0031-77c3-4b95-b504-b4d12abaa7a0",
   "metadata": {},
   "outputs": [
    {
     "data": {
      "text/plain": [
       "'rogr'"
      ]
     },
     "execution_count": 125,
     "metadata": {},
     "output_type": "execute_result"
    }
   ],
   "source": [
    "st[1:5]"
   ]
  },
  {
   "cell_type": "code",
   "execution_count": 126,
   "id": "7b42b6fd-4f67-482f-86db-f6acdce9514a",
   "metadata": {},
   "outputs": [
    {
     "data": {
      "text/plain": [
       "'Progr'"
      ]
     },
     "execution_count": 126,
     "metadata": {},
     "output_type": "execute_result"
    }
   ],
   "source": [
    "st[:5]"
   ]
  },
  {
   "cell_type": "code",
   "execution_count": 127,
   "id": "52d9c790-c185-499b-b098-41b7b3ddfdf9",
   "metadata": {},
   "outputs": [
    {
     "data": {
      "text/plain": [
       "'Programming'"
      ]
     },
     "execution_count": 127,
     "metadata": {},
     "output_type": "execute_result"
    }
   ],
   "source": [
    "st[:]"
   ]
  },
  {
   "cell_type": "code",
   "execution_count": 128,
   "id": "cde77d42-cfcd-4f53-bd93-514c805a34bc",
   "metadata": {},
   "outputs": [
    {
     "data": {
      "text/plain": [
       "'Programming'"
      ]
     },
     "execution_count": 128,
     "metadata": {},
     "output_type": "execute_result"
    }
   ],
   "source": [
    "st[::]"
   ]
  },
  {
   "cell_type": "code",
   "execution_count": 129,
   "id": "f601e0a4-9b15-43b0-86e8-32d3256bafa6",
   "metadata": {},
   "outputs": [
    {
     "data": {
      "text/plain": [
       "'Programming'"
      ]
     },
     "execution_count": 129,
     "metadata": {},
     "output_type": "execute_result"
    }
   ],
   "source": [
    "st"
   ]
  },
  {
   "cell_type": "code",
   "execution_count": 130,
   "id": "8744322d-77c5-4f9a-ab9a-dadc95ee59cc",
   "metadata": {},
   "outputs": [
    {
     "data": {
      "text/plain": [
       "'Pormig'"
      ]
     },
     "execution_count": 130,
     "metadata": {},
     "output_type": "execute_result"
    }
   ],
   "source": [
    "st[::2] # start : 0, end = n-1, step : 2"
   ]
  },
  {
   "cell_type": "code",
   "execution_count": 131,
   "id": "70ea0e7e-6b5e-4b7b-807a-5ef58548312a",
   "metadata": {},
   "outputs": [
    {
     "data": {
      "text/plain": [
       "'oai'"
      ]
     },
     "execution_count": 131,
     "metadata": {},
     "output_type": "execute_result"
    }
   ],
   "source": [
    "st[2::3] # starting : 2, end = n-1, step : 3"
   ]
  },
  {
   "cell_type": "code",
   "execution_count": null,
   "id": "b8ca3015-2d23-4886-9d28-aa72c35d53d2",
   "metadata": {},
   "outputs": [],
   "source": [
    "st[-5:]"
   ]
  },
  {
   "cell_type": "code",
   "execution_count": 132,
   "id": "fc27d436-c339-40bd-93e8-1539a419b90b",
   "metadata": {},
   "outputs": [
    {
     "data": {
      "text/plain": [
       "'Programming'"
      ]
     },
     "execution_count": 132,
     "metadata": {},
     "output_type": "execute_result"
    }
   ],
   "source": [
    "st"
   ]
  },
  {
   "cell_type": "code",
   "execution_count": 133,
   "id": "236e6d91-12a3-407c-9941-647992eabeb0",
   "metadata": {},
   "outputs": [
    {
     "data": {
      "text/plain": [
       "'ogr'"
      ]
     },
     "execution_count": 133,
     "metadata": {},
     "output_type": "execute_result"
    }
   ],
   "source": [
    "st[2:5] # start : 2, end: 5, stepsize : 1"
   ]
  },
  {
   "cell_type": "code",
   "execution_count": 134,
   "id": "e42bd310-df6a-46c4-b1b9-af6a1d0d1885",
   "metadata": {},
   "outputs": [
    {
     "data": {
      "text/plain": [
       "'Programming'"
      ]
     },
     "execution_count": 134,
     "metadata": {},
     "output_type": "execute_result"
    }
   ],
   "source": [
    "st[:]"
   ]
  },
  {
   "cell_type": "code",
   "execution_count": 135,
   "id": "e84c25f3-08b3-42c0-bf75-6eda92519f96",
   "metadata": {},
   "outputs": [
    {
     "data": {
      "text/plain": [
       "'Programming'"
      ]
     },
     "execution_count": 135,
     "metadata": {},
     "output_type": "execute_result"
    }
   ],
   "source": [
    "st[::]"
   ]
  },
  {
   "cell_type": "code",
   "execution_count": 136,
   "id": "8907a3dc-bbaa-4422-944b-1af01f8f5f24",
   "metadata": {},
   "outputs": [
    {
     "data": {
      "text/plain": [
       "'rogra'"
      ]
     },
     "execution_count": 136,
     "metadata": {},
     "output_type": "execute_result"
    }
   ],
   "source": [
    "st[1:6]"
   ]
  },
  {
   "cell_type": "code",
   "execution_count": 137,
   "id": "71fa324a-e792-4e57-bba8-7871b27c2f88",
   "metadata": {},
   "outputs": [
    {
     "data": {
      "text/plain": [
       "'Progr'"
      ]
     },
     "execution_count": 137,
     "metadata": {},
     "output_type": "execute_result"
    }
   ],
   "source": [
    "st[0:5]"
   ]
  },
  {
   "cell_type": "code",
   "execution_count": 138,
   "id": "94b4a444-c280-40a6-8cba-4c7164a591c8",
   "metadata": {},
   "outputs": [],
   "source": [
    "# range"
   ]
  },
  {
   "cell_type": "code",
   "execution_count": 139,
   "id": "5283a44a-b08f-4239-92f4-d2a37af89397",
   "metadata": {},
   "outputs": [],
   "source": [
    "# range(start, end, stepsize)\n",
    "# start : 0, end = n-1 , stepsize : 1"
   ]
  },
  {
   "cell_type": "code",
   "execution_count": 140,
   "id": "db4b3bb2-bd0d-476a-8793-54b188a96a07",
   "metadata": {},
   "outputs": [
    {
     "data": {
      "text/plain": [
       "[0, 1, 2, 3, 4]"
      ]
     },
     "execution_count": 140,
     "metadata": {},
     "output_type": "execute_result"
    }
   ],
   "source": [
    "list(range(5))"
   ]
  },
  {
   "cell_type": "code",
   "execution_count": 141,
   "id": "bba3ab11-8741-43d2-b730-a5a26e87dde4",
   "metadata": {},
   "outputs": [
    {
     "data": {
      "text/plain": [
       "[0, 1, 2, 3, 4]"
      ]
     },
     "execution_count": 141,
     "metadata": {},
     "output_type": "execute_result"
    }
   ],
   "source": [
    "list(range(0,5,1))"
   ]
  },
  {
   "cell_type": "code",
   "execution_count": 142,
   "id": "a41d79a0-bb68-42a8-8597-c5ddd37df952",
   "metadata": {},
   "outputs": [
    {
     "data": {
      "text/plain": [
       "[0, 2, 4]"
      ]
     },
     "execution_count": 142,
     "metadata": {},
     "output_type": "execute_result"
    }
   ],
   "source": [
    "list(range(0,5,2))"
   ]
  },
  {
   "cell_type": "code",
   "execution_count": 143,
   "id": "30e88d9e-2a0c-4d4c-988b-a392722943d2",
   "metadata": {},
   "outputs": [
    {
     "data": {
      "text/plain": [
       "[5, 8, 11, 14, 17, 20, 23, 26, 29, 32, 35, 38, 41, 44, 47]"
      ]
     },
     "execution_count": 143,
     "metadata": {},
     "output_type": "execute_result"
    }
   ],
   "source": [
    "list(range(5,50,3))"
   ]
  },
  {
   "cell_type": "code",
   "execution_count": 144,
   "id": "fcb0dbd5-f47e-4696-8b5c-44dc34208b7d",
   "metadata": {},
   "outputs": [
    {
     "data": {
      "text/plain": [
       "'Programming'"
      ]
     },
     "execution_count": 144,
     "metadata": {},
     "output_type": "execute_result"
    }
   ],
   "source": [
    "st"
   ]
  },
  {
   "cell_type": "code",
   "execution_count": 145,
   "id": "03820ac1-e10a-4e66-8eb9-426249c393b0",
   "metadata": {},
   "outputs": [
    {
     "data": {
      "text/plain": [
       "'Pormig'"
      ]
     },
     "execution_count": 145,
     "metadata": {},
     "output_type": "execute_result"
    }
   ],
   "source": [
    "st[::2] # starts : 0, end = n-1,  stepsize: 2"
   ]
  },
  {
   "cell_type": "code",
   "execution_count": 147,
   "id": "94f6a9f5-6ae4-4507-8b92-0f6d26f16d9f",
   "metadata": {},
   "outputs": [
    {
     "data": {
      "text/plain": [
       "'gP'"
      ]
     },
     "execution_count": 147,
     "metadata": {},
     "output_type": "execute_result"
    }
   ],
   "source": [
    "st[::-10]"
   ]
  },
  {
   "attachments": {
    "3da92e73-47c5-406c-922d-8082006564a0.png": {
     "image/png": "[encoded data removed]"
    }
   },
   "cell_type": "markdown",
   "id": "dffceba0-b86e-4710-bc8f-95dc65f7f5e1",
   "metadata": {},
   "source": [
    "![image.png](attachment:3da92e73-47c5-406c-922d-8082006564a0.png)"
   ]
  },
  {
   "cell_type": "code",
   "execution_count": 149,
   "id": "08250b9d-041f-42d4-9cc9-2b2822541c5a",
   "metadata": {},
   "outputs": [
    {
     "data": {
      "text/plain": [
       "'Programming'"
      ]
     },
     "execution_count": 149,
     "metadata": {},
     "output_type": "execute_result"
    }
   ],
   "source": [
    "st"
   ]
  },
  {
   "cell_type": "code",
   "execution_count": 150,
   "id": "c2acc53f-4288-4d16-87bc-922da0955bd3",
   "metadata": {},
   "outputs": [
    {
     "data": {
      "text/plain": [
       "'gnimmargorP'"
      ]
     },
     "execution_count": 150,
     "metadata": {},
     "output_type": "execute_result"
    }
   ],
   "source": [
    "st[::-1] # start : end of string, stop: begining of the string, step = -10"
   ]
  },
  {
   "cell_type": "code",
   "execution_count": 151,
   "id": "29d4f34e-d5b0-4371-9f66-fa2ee2b2e3f6",
   "metadata": {},
   "outputs": [
    {
     "data": {
      "text/plain": [
       "'gimroP'"
      ]
     },
     "execution_count": 151,
     "metadata": {},
     "output_type": "execute_result"
    }
   ],
   "source": [
    "st[::-2]"
   ]
  },
  {
   "cell_type": "code",
   "execution_count": 152,
   "id": "43cfbfe4-2a9c-4d9d-b928-6c84018a89f3",
   "metadata": {},
   "outputs": [
    {
     "data": {
      "text/plain": [
       "'gmrr'"
      ]
     },
     "execution_count": 152,
     "metadata": {},
     "output_type": "execute_result"
    }
   ],
   "source": [
    "st[::-3]"
   ]
  },
  {
   "cell_type": "code",
   "execution_count": 153,
   "id": "6748ac92-fb19-4051-900c-c53290908c12",
   "metadata": {},
   "outputs": [
    {
     "data": {
      "text/plain": [
       "'gmo'"
      ]
     },
     "execution_count": 153,
     "metadata": {},
     "output_type": "execute_result"
    }
   ],
   "source": [
    "st[::-4]"
   ]
  },
  {
   "cell_type": "code",
   "execution_count": 154,
   "id": "23874585-7afb-4299-9cb5-a1613050fa89",
   "metadata": {},
   "outputs": [
    {
     "data": {
      "text/plain": [
       "'gaP'"
      ]
     },
     "execution_count": 154,
     "metadata": {},
     "output_type": "execute_result"
    }
   ],
   "source": [
    "st[::-5]"
   ]
  },
  {
   "cell_type": "code",
   "execution_count": 155,
   "id": "8261ed43-633e-412c-8893-5dcd9dbb1a2a",
   "metadata": {},
   "outputs": [
    {
     "data": {
      "text/plain": [
       "'gr'"
      ]
     },
     "execution_count": 155,
     "metadata": {},
     "output_type": "execute_result"
    }
   ],
   "source": [
    "st[::-6]"
   ]
  },
  {
   "cell_type": "code",
   "execution_count": 156,
   "id": "a5293630-8adf-4c1a-9843-4cdf22b447d5",
   "metadata": {},
   "outputs": [
    {
     "data": {
      "text/plain": [
       "'gg'"
      ]
     },
     "execution_count": 156,
     "metadata": {},
     "output_type": "execute_result"
    }
   ],
   "source": [
    "st[::-7]"
   ]
  },
  {
   "cell_type": "code",
   "execution_count": 157,
   "id": "6f2cb493-c446-41ca-b5b7-90dfbddab53c",
   "metadata": {},
   "outputs": [
    {
     "data": {
      "text/plain": [
       "'go'"
      ]
     },
     "execution_count": 157,
     "metadata": {},
     "output_type": "execute_result"
    }
   ],
   "source": [
    "st[::-8]"
   ]
  },
  {
   "cell_type": "code",
   "execution_count": 158,
   "id": "aea8c7c0-f1c2-4e36-883f-5f87fc3d5b3a",
   "metadata": {},
   "outputs": [
    {
     "data": {
      "text/plain": [
       "'gr'"
      ]
     },
     "execution_count": 158,
     "metadata": {},
     "output_type": "execute_result"
    }
   ],
   "source": [
    "st[::-9]"
   ]
  },
  {
   "cell_type": "code",
   "execution_count": 159,
   "id": "8ef079b7-a4f5-49c0-a68a-acc6dbd9729e",
   "metadata": {},
   "outputs": [
    {
     "data": {
      "text/plain": [
       "'gP'"
      ]
     },
     "execution_count": 159,
     "metadata": {},
     "output_type": "execute_result"
    }
   ],
   "source": [
    "st[::-10]"
   ]
  },
  {
   "cell_type": "code",
   "execution_count": 160,
   "id": "e9ef3e1f-787b-4765-be2f-98526044ac55",
   "metadata": {},
   "outputs": [],
   "source": [
    "r = 'Deepak'"
   ]
  },
  {
   "cell_type": "code",
   "execution_count": 161,
   "id": "ce7be654-928f-4c0a-ad13-8b4d6cdcb76c",
   "metadata": {},
   "outputs": [
    {
     "data": {
      "text/plain": [
       "'eepa'"
      ]
     },
     "execution_count": 161,
     "metadata": {},
     "output_type": "execute_result"
    }
   ],
   "source": [
    "r[1:-1]"
   ]
  },
  {
   "cell_type": "code",
   "execution_count": 162,
   "id": "65fc9ae3-05b6-45dc-a8cb-df91f6b738d7",
   "metadata": {},
   "outputs": [
    {
     "name": "stdout",
     "output_type": "stream",
     "text": [
      "D\n",
      "kapeeD\n"
     ]
    }
   ],
   "source": [
    "print(r[0::-1])\n",
    "print(r[::-1])"
   ]
  },
  {
   "cell_type": "code",
   "execution_count": 163,
   "id": "18aad53b-9e86-4c2c-ad90-42d98cd037b0",
   "metadata": {},
   "outputs": [
    {
     "data": {
      "text/plain": [
       "'Deepak'"
      ]
     },
     "execution_count": 163,
     "metadata": {},
     "output_type": "execute_result"
    }
   ],
   "source": [
    "r"
   ]
  },
  {
   "cell_type": "code",
   "execution_count": 164,
   "id": "06c64e11-b505-41ca-84e7-1fe40bc1f207",
   "metadata": {},
   "outputs": [
    {
     "data": {
      "text/plain": [
       "'eD'"
      ]
     },
     "execution_count": 164,
     "metadata": {},
     "output_type": "execute_result"
    }
   ],
   "source": [
    "r[1::-1]"
   ]
  },
  {
   "cell_type": "code",
   "execution_count": 165,
   "id": "f4900f50-3103-4810-8953-d30417abf236",
   "metadata": {},
   "outputs": [
    {
     "data": {
      "text/plain": [
       "6"
      ]
     },
     "execution_count": 165,
     "metadata": {},
     "output_type": "execute_result"
    }
   ],
   "source": [
    "len(r)"
   ]
  },
  {
   "cell_type": "code",
   "execution_count": 166,
   "id": "5c94689b-3de1-4918-ae2a-1d57f7b519b9",
   "metadata": {},
   "outputs": [
    {
     "data": {
      "text/plain": [
       "'Deepak'"
      ]
     },
     "execution_count": 166,
     "metadata": {},
     "output_type": "execute_result"
    }
   ],
   "source": [
    "r"
   ]
  },
  {
   "cell_type": "code",
   "execution_count": 167,
   "id": "a407da9b-b2ef-4b8a-85ff-5477adecc52d",
   "metadata": {},
   "outputs": [
    {
     "data": {
      "text/plain": [
       "'kapeeD'"
      ]
     },
     "execution_count": 167,
     "metadata": {},
     "output_type": "execute_result"
    }
   ],
   "source": [
    "r[::-1]"
   ]
  },
  {
   "cell_type": "code",
   "execution_count": 168,
   "id": "a09c1ecd-5236-45a6-9fc0-48b2768936b4",
   "metadata": {},
   "outputs": [
    {
     "data": {
      "text/plain": [
       "'Deepak'"
      ]
     },
     "execution_count": 168,
     "metadata": {},
     "output_type": "execute_result"
    }
   ],
   "source": [
    "r[::1]"
   ]
  },
  {
   "cell_type": "code",
   "execution_count": 169,
   "id": "bc6302b7-819d-4873-b491-ae1e8a3357d4",
   "metadata": {},
   "outputs": [
    {
     "data": {
      "text/plain": [
       "'Dea'"
      ]
     },
     "execution_count": 169,
     "metadata": {},
     "output_type": "execute_result"
    }
   ],
   "source": [
    "r[::2]"
   ]
  },
  {
   "cell_type": "code",
   "execution_count": 170,
   "id": "b83e3d5d-43e3-4f2a-a179-8de9475a9881",
   "metadata": {},
   "outputs": [
    {
     "data": {
      "text/plain": [
       "'kpe'"
      ]
     },
     "execution_count": 170,
     "metadata": {},
     "output_type": "execute_result"
    }
   ],
   "source": [
    "r[::-2]"
   ]
  },
  {
   "cell_type": "code",
   "execution_count": 171,
   "id": "0bd1290f-bfa7-4f33-99c6-5188006d6324",
   "metadata": {},
   "outputs": [
    {
     "data": {
      "text/plain": [
       "'Programming'"
      ]
     },
     "execution_count": 171,
     "metadata": {},
     "output_type": "execute_result"
    }
   ],
   "source": [
    "st"
   ]
  },
  {
   "cell_type": "code",
   "execution_count": null,
   "id": "fc36e9b3-b689-4024-9a30-7494e162b7f3",
   "metadata": {},
   "outputs": [],
   "source": [
    "st[1::-1]\n"
   ]
  },
  {
   "cell_type": "code",
   "execution_count": 172,
   "id": "de023c87-3e43-4718-8961-dbcb88d73ad6",
   "metadata": {},
   "outputs": [],
   "source": [
    "# st[start:stop:step]\n",
    "# st = 1 : r\n",
    "# stop = # stop reaching the begning of the index : 0\n",
    "# step = -1, reverse order (move backward)"
   ]
  },
  {
   "cell_type": "code",
   "execution_count": 173,
   "id": "d185cb66-0fdc-4fe4-a654-1a0faa44b3f8",
   "metadata": {},
   "outputs": [
    {
     "data": {
      "text/plain": [
       "'rP'"
      ]
     },
     "execution_count": 173,
     "metadata": {},
     "output_type": "execute_result"
    }
   ],
   "source": [
    "st[1::-1]"
   ]
  },
  {
   "cell_type": "code",
   "execution_count": 174,
   "id": "aef90ac1-052f-47a3-be1c-21390bcca0c5",
   "metadata": {},
   "outputs": [
    {
     "data": {
      "text/plain": [
       "'Programming'"
      ]
     },
     "execution_count": 174,
     "metadata": {},
     "output_type": "execute_result"
    }
   ],
   "source": [
    "st"
   ]
  },
  {
   "cell_type": "code",
   "execution_count": 176,
   "id": "c109438c-a115-4ba3-8921-791dafcbd835",
   "metadata": {},
   "outputs": [
    {
     "data": {
      "text/plain": [
       "'r'"
      ]
     },
     "execution_count": 176,
     "metadata": {},
     "output_type": "execute_result"
    }
   ],
   "source": [
    "st[1::-3]"
   ]
  },
  {
   "cell_type": "markdown",
   "id": "fccd1005-d484-4069-a1e7-89ceffd44d25",
   "metadata": {},
   "source": [
    "### String function"
   ]
  },
  {
   "cell_type": "code",
   "execution_count": 177,
   "id": "9a6bdc31-a524-4aae-b8de-944eb76f0430",
   "metadata": {},
   "outputs": [
    {
     "data": {
      "text/plain": [
       "'Programming'"
      ]
     },
     "execution_count": 177,
     "metadata": {},
     "output_type": "execute_result"
    }
   ],
   "source": [
    "st"
   ]
  },
  {
   "cell_type": "code",
   "execution_count": 178,
   "id": "2f74caf4-088e-4833-a336-cc66d4a1d6b9",
   "metadata": {},
   "outputs": [
    {
     "data": {
      "text/plain": [
       "'programming'"
      ]
     },
     "execution_count": 178,
     "metadata": {},
     "output_type": "execute_result"
    }
   ],
   "source": [
    "st.lower()"
   ]
  },
  {
   "cell_type": "code",
   "execution_count": 179,
   "id": "a5eb4e32-f58f-4f62-a2e7-3dc6b732dc1f",
   "metadata": {},
   "outputs": [
    {
     "data": {
      "text/plain": [
       "'PROGRAMMING'"
      ]
     },
     "execution_count": 179,
     "metadata": {},
     "output_type": "execute_result"
    }
   ],
   "source": [
    "st.upper()"
   ]
  },
  {
   "cell_type": "code",
   "execution_count": 180,
   "id": "2d6291c4-d119-427c-a024-dcc6f7e2e6ec",
   "metadata": {},
   "outputs": [
    {
     "data": {
      "text/plain": [
       "'Programming'"
      ]
     },
     "execution_count": 180,
     "metadata": {},
     "output_type": "execute_result"
    }
   ],
   "source": [
    "st.capitalize()"
   ]
  },
  {
   "cell_type": "code",
   "execution_count": 181,
   "id": "a00d4f4f-bd28-424e-a830-e49a4a57ed66",
   "metadata": {},
   "outputs": [],
   "source": [
    "st = \"prograMMING\""
   ]
  },
  {
   "cell_type": "code",
   "execution_count": 182,
   "id": "313c4948-23e9-4e90-9fab-664d24584757",
   "metadata": {},
   "outputs": [
    {
     "data": {
      "text/plain": [
       "'Programming'"
      ]
     },
     "execution_count": 182,
     "metadata": {},
     "output_type": "execute_result"
    }
   ],
   "source": [
    "st.capitalize()"
   ]
  },
  {
   "cell_type": "code",
   "execution_count": 183,
   "id": "0316565f-650a-4aed-a28f-e1f8665b06d5",
   "metadata": {},
   "outputs": [],
   "source": [
    "st = \"python programming is fun with upGrad\""
   ]
  },
  {
   "cell_type": "code",
   "execution_count": 184,
   "id": "f7402eab-10d1-4b33-bf46-6849e0dad121",
   "metadata": {},
   "outputs": [
    {
     "data": {
      "text/plain": [
       "['python', 'programming', 'is', 'fun', 'with', 'upGrad']"
      ]
     },
     "execution_count": 184,
     "metadata": {},
     "output_type": "execute_result"
    }
   ],
   "source": [
    "st.split() # by default : \" \""
   ]
  },
  {
   "cell_type": "code",
   "execution_count": 185,
   "id": "f330655a-268f-423e-a65e-80a330c5bd70",
   "metadata": {},
   "outputs": [
    {
     "data": {
      "text/plain": [
       "['python', 'programming', 'is', 'fun', 'with', 'upGrad']"
      ]
     },
     "execution_count": 185,
     "metadata": {},
     "output_type": "execute_result"
    }
   ],
   "source": [
    "st.split(\" \")"
   ]
  },
  {
   "cell_type": "code",
   "execution_count": 186,
   "id": "002cfe1c-1b13-4ea3-b0ed-369916c1ebe9",
   "metadata": {},
   "outputs": [],
   "source": [
    "email = \"myprogrammingisfun@gmail.com\""
   ]
  },
  {
   "cell_type": "code",
   "execution_count": 188,
   "id": "547a8df3-7f60-448d-aa28-edd919053fd3",
   "metadata": {},
   "outputs": [
    {
     "data": {
      "text/plain": [
       "['myprogrammingisfun', 'gmail.com']"
      ]
     },
     "execution_count": 188,
     "metadata": {},
     "output_type": "execute_result"
    }
   ],
   "source": [
    "email.split(\"@\")"
   ]
  },
  {
   "cell_type": "code",
   "execution_count": 189,
   "id": "55b4b790-2626-4d2f-874f-b66c94870c65",
   "metadata": {},
   "outputs": [
    {
     "name": "stdout",
     "output_type": "stream",
     "text": [
      "UserName:  myprogrammingisfun\n"
     ]
    }
   ],
   "source": [
    "print(\"UserName: \" ,email.split(\"@\")[0])"
   ]
  },
  {
   "cell_type": "code",
   "execution_count": 190,
   "id": "d84aa38d-0b87-43da-9ea2-23d6f04a27b0",
   "metadata": {},
   "outputs": [
    {
     "name": "stdout",
     "output_type": "stream",
     "text": [
      "DomainName:  gmail.com\n"
     ]
    }
   ],
   "source": [
    "print(\"DomainName: \" ,email.split(\"@\")[-1])"
   ]
  },
  {
   "cell_type": "code",
   "execution_count": 191,
   "id": "d27292e4-fdf6-47d9-8605-bf4fded81316",
   "metadata": {},
   "outputs": [
    {
     "data": {
      "text/plain": [
       "'myprogrammingisfun@gmail.com'"
      ]
     },
     "execution_count": 191,
     "metadata": {},
     "output_type": "execute_result"
    }
   ],
   "source": [
    "email"
   ]
  },
  {
   "cell_type": "code",
   "execution_count": 192,
   "id": "d7f3afc0-6755-43d8-a416-dfbc415747ac",
   "metadata": {},
   "outputs": [
    {
     "data": {
      "text/plain": [
       "('myprogrammingisfun', '@', 'gmail.com')"
      ]
     },
     "execution_count": 192,
     "metadata": {},
     "output_type": "execute_result"
    }
   ],
   "source": [
    "email.partition(\"@\")"
   ]
  },
  {
   "cell_type": "code",
   "execution_count": 193,
   "id": "8a229de0-e608-4f3e-932d-5764c8059bce",
   "metadata": {},
   "outputs": [
    {
     "data": {
      "text/plain": [
       "('myprogrammingisfun@gmail.com', '', '')"
      ]
     },
     "execution_count": 193,
     "metadata": {},
     "output_type": "execute_result"
    }
   ],
   "source": [
    "email.partition(\"|\")"
   ]
  },
  {
   "cell_type": "markdown",
   "id": "4a398ba7-547d-4204-a5d7-d9fc8788803b",
   "metadata": {},
   "source": [
    "### What is the meaning of Immutable and Mutable?"
   ]
  },
  {
   "cell_type": "code",
   "execution_count": 194,
   "id": "515853e2-c7af-4281-b2e3-14f9de28f2da",
   "metadata": {},
   "outputs": [],
   "source": [
    "# Immutable : Not Modified\n",
    "# Mutable: Modified"
   ]
  },
  {
   "cell_type": "code",
   "execution_count": 195,
   "id": "7fabd001-a118-4003-aafd-ed5822d8f608",
   "metadata": {},
   "outputs": [],
   "source": [
    "st = 'Abhisheak'"
   ]
  },
  {
   "cell_type": "code",
   "execution_count": 197,
   "id": "1194af82-49db-42a6-9f65-088767d9a318",
   "metadata": {},
   "outputs": [
    {
     "ename": "TypeError",
     "evalue": "'str' object does not support item assignment",
     "output_type": "error",
     "traceback": [
      "\u001b[0;31m---------------------------------------------------------------------------\u001b[0m",
      "\u001b[0;31mTypeError\u001b[0m                                 Traceback (most recent call last)",
      "Cell \u001b[0;32mIn[197], line 1\u001b[0m\n\u001b[0;32m----> 1\u001b[0m st[\u001b[38;5;241m0\u001b[39m] \u001b[38;5;241m=\u001b[39m \u001b[38;5;124m'\u001b[39m\u001b[38;5;124mJ\u001b[39m\u001b[38;5;124m'\u001b[39m\n",
      "\u001b[0;31mTypeError\u001b[0m: 'str' object does not support item assignment"
     ]
    }
   ],
   "source": [
    "st[0] = 'J'"
   ]
  },
  {
   "cell_type": "code",
   "execution_count": 198,
   "id": "c871b396-e772-49c0-8abb-dbfe3daa7bfb",
   "metadata": {},
   "outputs": [],
   "source": [
    "lst = [1,5,7,8,9,0,10]"
   ]
  },
  {
   "cell_type": "code",
   "execution_count": 199,
   "id": "43176fc5-a596-45ca-993c-f712ea0d9da4",
   "metadata": {},
   "outputs": [
    {
     "data": {
      "text/plain": [
       "10"
      ]
     },
     "execution_count": 199,
     "metadata": {},
     "output_type": "execute_result"
    }
   ],
   "source": [
    "lst[-1]"
   ]
  },
  {
   "cell_type": "code",
   "execution_count": 200,
   "id": "2a5f2b63-9ff2-481d-876e-c46a6b4291bc",
   "metadata": {},
   "outputs": [],
   "source": [
    "lst[-1] = 'Abhisheak'"
   ]
  },
  {
   "cell_type": "code",
   "execution_count": 201,
   "id": "687413c6-e389-48c5-b393-8fe689c62bff",
   "metadata": {},
   "outputs": [
    {
     "data": {
      "text/plain": [
       "[1, 5, 7, 8, 9, 0, 'Abhisheak']"
      ]
     },
     "execution_count": 201,
     "metadata": {},
     "output_type": "execute_result"
    }
   ],
   "source": [
    "lst"
   ]
  },
  {
   "cell_type": "code",
   "execution_count": 202,
   "id": "27ec2506-ba53-46dd-ab67-f415a2b181c3",
   "metadata": {},
   "outputs": [],
   "source": [
    "tp = (1,4,6,7,-10)"
   ]
  },
  {
   "cell_type": "code",
   "execution_count": 203,
   "id": "d4c0b894-fd62-48f5-a4f4-65cac4e8dee2",
   "metadata": {},
   "outputs": [
    {
     "data": {
      "text/plain": [
       "-10"
      ]
     },
     "execution_count": 203,
     "metadata": {},
     "output_type": "execute_result"
    }
   ],
   "source": [
    "tp[-1]"
   ]
  },
  {
   "cell_type": "code",
   "execution_count": 204,
   "id": "6ca9cf66-43a6-4658-99d1-b728af79938a",
   "metadata": {},
   "outputs": [
    {
     "ename": "TypeError",
     "evalue": "'tuple' object does not support item assignment",
     "output_type": "error",
     "traceback": [
      "\u001b[0;31m---------------------------------------------------------------------------\u001b[0m",
      "\u001b[0;31mTypeError\u001b[0m                                 Traceback (most recent call last)",
      "Cell \u001b[0;32mIn[204], line 1\u001b[0m\n\u001b[0;32m----> 1\u001b[0m tp[\u001b[38;5;241m-\u001b[39m\u001b[38;5;241m1\u001b[39m] \u001b[38;5;241m=\u001b[39m \u001b[38;5;124m'\u001b[39m\u001b[38;5;124mAbhisheak\u001b[39m\u001b[38;5;124m'\u001b[39m\n",
      "\u001b[0;31mTypeError\u001b[0m: 'tuple' object does not support item assignment"
     ]
    }
   ],
   "source": [
    "tp[-1] = 'Abhisheak'"
   ]
  },
  {
   "cell_type": "code",
   "execution_count": 205,
   "id": "82580b70-08d2-48a6-89de-8cdf39ea86f7",
   "metadata": {},
   "outputs": [],
   "source": [
    "string = \"Python is fun\""
   ]
  },
  {
   "cell_type": "code",
   "execution_count": 207,
   "id": "93b2180c-d0a5-469f-a6df-c1057e9adb81",
   "metadata": {},
   "outputs": [],
   "source": [
    "# string.replace?"
   ]
  },
  {
   "cell_type": "code",
   "execution_count": 208,
   "id": "ee77aad6-424f-45bb-a30f-03095d271643",
   "metadata": {},
   "outputs": [
    {
     "data": {
      "text/plain": [
       "'Python is powerful'"
      ]
     },
     "execution_count": 208,
     "metadata": {},
     "output_type": "execute_result"
    }
   ],
   "source": [
    "string.replace('fun','powerful')"
   ]
  },
  {
   "cell_type": "code",
   "execution_count": 209,
   "id": "3f37fe10-9664-414f-9a84-f702026eef55",
   "metadata": {},
   "outputs": [],
   "source": [
    "st = 'Programming'"
   ]
  },
  {
   "cell_type": "code",
   "execution_count": 210,
   "id": "a761c2e3-2277-4f87-a015-ae7509d6e5ea",
   "metadata": {},
   "outputs": [],
   "source": [
    "# 0: P\n",
    "# 1: r"
   ]
  },
  {
   "cell_type": "code",
   "execution_count": 211,
   "id": "0982178e-8299-48cf-a8ea-d4f865ba7762",
   "metadata": {},
   "outputs": [
    {
     "data": {
      "text/plain": [
       "'rP'"
      ]
     },
     "execution_count": 211,
     "metadata": {},
     "output_type": "execute_result"
    }
   ],
   "source": [
    "st[1::-1]"
   ]
  },
  {
   "cell_type": "code",
   "execution_count": 212,
   "id": "78e8a446-0b48-4726-87bb-ea0c7b4a0ff2",
   "metadata": {},
   "outputs": [
    {
     "data": {
      "text/plain": [
       "'orP'"
      ]
     },
     "execution_count": 212,
     "metadata": {},
     "output_type": "execute_result"
    }
   ],
   "source": [
    "st[2::-1]"
   ]
  },
  {
   "cell_type": "code",
   "execution_count": 213,
   "id": "6dbdbc42-eedb-4212-ab16-a136f2491415",
   "metadata": {},
   "outputs": [],
   "source": [
    "# split"
   ]
  },
  {
   "cell_type": "code",
   "execution_count": 214,
   "id": "fcf34dbe-f309-40ab-a38c-d05fc36150fd",
   "metadata": {},
   "outputs": [
    {
     "data": {
      "text/plain": [
       "'Python is fun'"
      ]
     },
     "execution_count": 214,
     "metadata": {},
     "output_type": "execute_result"
    }
   ],
   "source": [
    "string"
   ]
  },
  {
   "cell_type": "code",
   "execution_count": 215,
   "id": "233147b7-f05c-4c12-a06d-78b9c1023f15",
   "metadata": {},
   "outputs": [],
   "source": [
    "bucket = 'Veg,Egg,Bread,Fruit,Soya,Milk,Chocolates'"
   ]
  },
  {
   "cell_type": "code",
   "execution_count": 216,
   "id": "6fd471fd-15d2-4258-8376-8c7f65cbb66e",
   "metadata": {},
   "outputs": [
    {
     "data": {
      "text/plain": [
       "['Veg', 'Egg', 'Bread', 'Fruit', 'Soya', 'Milk', 'Chocolates']"
      ]
     },
     "execution_count": 216,
     "metadata": {},
     "output_type": "execute_result"
    }
   ],
   "source": [
    "bucket.split(\",\")"
   ]
  },
  {
   "cell_type": "code",
   "execution_count": 217,
   "id": "44617475-40a0-4251-99bd-f09ae1fb508d",
   "metadata": {},
   "outputs": [
    {
     "data": {
      "text/plain": [
       "['Veg', 'Egg', 'Bread,Fruit,Soya,Milk,Chocolates']"
      ]
     },
     "execution_count": 217,
     "metadata": {},
     "output_type": "execute_result"
    }
   ],
   "source": [
    "bucket.split(\",\",2)"
   ]
  },
  {
   "cell_type": "code",
   "execution_count": 218,
   "id": "2d4a12b5-31ef-466e-800e-fd351fcf9430",
   "metadata": {},
   "outputs": [
    {
     "data": {
      "text/plain": [
       "['Veg', 'Egg', 'Bread', 'Fruit', 'Soya,Milk,Chocolates']"
      ]
     },
     "execution_count": 218,
     "metadata": {},
     "output_type": "execute_result"
    }
   ],
   "source": [
    "bucket.split(\",\",4)"
   ]
  },
  {
   "cell_type": "code",
   "execution_count": 219,
   "id": "0fc7558d-0da7-4229-af19-ab8b173301f6",
   "metadata": {},
   "outputs": [],
   "source": [
    "# rsplit"
   ]
  },
  {
   "cell_type": "code",
   "execution_count": 220,
   "id": "3b85cc19-2584-4f4f-a86c-a827678b782c",
   "metadata": {},
   "outputs": [
    {
     "data": {
      "text/plain": [
       "'Veg,Egg,Bread,Fruit,Soya,Milk,Chocolates'"
      ]
     },
     "execution_count": 220,
     "metadata": {},
     "output_type": "execute_result"
    }
   ],
   "source": [
    "bucket"
   ]
  },
  {
   "cell_type": "code",
   "execution_count": 221,
   "id": "a7c6e045-a540-41fb-a57c-4bb33b88ecca",
   "metadata": {},
   "outputs": [
    {
     "data": {
      "text/plain": [
       "['Veg', 'Egg', 'Bread', 'Fruit', 'Soya', 'Milk', 'Chocolates']"
      ]
     },
     "execution_count": 221,
     "metadata": {},
     "output_type": "execute_result"
    }
   ],
   "source": [
    "bucket.rsplit(\",\")"
   ]
  },
  {
   "cell_type": "code",
   "execution_count": 222,
   "id": "57a22863-0ac6-4aca-80f5-09f3434aee23",
   "metadata": {},
   "outputs": [
    {
     "data": {
      "text/plain": [
       "['Veg,Egg,Bread,Fruit,Soya', 'Milk', 'Chocolates']"
      ]
     },
     "execution_count": 222,
     "metadata": {},
     "output_type": "execute_result"
    }
   ],
   "source": [
    "bucket.rsplit(\",\",2)"
   ]
  },
  {
   "cell_type": "code",
   "execution_count": 223,
   "id": "2890c534-8aba-4afe-94d3-d164b1c30c74",
   "metadata": {},
   "outputs": [],
   "source": [
    "bucket = 'Veg,Egg,Bread,Fruit,Soya,Milk,Chocolates'"
   ]
  },
  {
   "cell_type": "code",
   "execution_count": 225,
   "id": "6afaaeec-6916-475a-8335-ab26bac2ef1b",
   "metadata": {},
   "outputs": [
    {
     "data": {
      "text/plain": [
       "['Veg', 'Egg', 'Bread']"
      ]
     },
     "execution_count": 225,
     "metadata": {},
     "output_type": "execute_result"
    }
   ],
   "source": [
    "bucket.split(\",\")[:3]"
   ]
  },
  {
   "cell_type": "code",
   "execution_count": 227,
   "id": "86966392-bd37-467f-95e3-627d13dd36cf",
   "metadata": {},
   "outputs": [
    {
     "data": {
      "text/plain": [
       "'Veg,Egg,Bread,Fruit,Soya,Milk,Chocolates'"
      ]
     },
     "execution_count": 227,
     "metadata": {},
     "output_type": "execute_result"
    }
   ],
   "source": [
    "bucket"
   ]
  },
  {
   "cell_type": "code",
   "execution_count": 228,
   "id": "d8c7f63e-7e29-48c1-bced-15a57accb0a5",
   "metadata": {},
   "outputs": [],
   "source": [
    "bucket = bucket.split(\",\")[:3]"
   ]
  },
  {
   "cell_type": "code",
   "execution_count": 229,
   "id": "eaa08af6-457a-42df-a4fb-936b683b5757",
   "metadata": {},
   "outputs": [
    {
     "data": {
      "text/plain": [
       "['Veg', 'Egg', 'Bread']"
      ]
     },
     "execution_count": 229,
     "metadata": {},
     "output_type": "execute_result"
    }
   ],
   "source": [
    "bucket"
   ]
  },
  {
   "cell_type": "code",
   "execution_count": 233,
   "id": "648a143e-e651-4308-9307-19824f910fbb",
   "metadata": {},
   "outputs": [],
   "source": [
    "bucket = 'Veg,Egg,Bread,Fruit,Soya,Milk,Chocolates'"
   ]
  },
  {
   "cell_type": "code",
   "execution_count": 234,
   "id": "6f12faee-9047-4adb-aba8-ff0a6d0be409",
   "metadata": {},
   "outputs": [
    {
     "data": {
      "text/plain": [
       "\u001b[0;31mSignature:\u001b[0m \u001b[0mbucket\u001b[0m\u001b[0;34m.\u001b[0m\u001b[0msplit\u001b[0m\u001b[0;34m(\u001b[0m\u001b[0msep\u001b[0m\u001b[0;34m=\u001b[0m\u001b[0;32mNone\u001b[0m\u001b[0;34m,\u001b[0m \u001b[0mmaxsplit\u001b[0m\u001b[0;34m=\u001b[0m\u001b[0;34m-\u001b[0m\u001b[0;36m1\u001b[0m\u001b[0;34m)\u001b[0m\u001b[0;34m\u001b[0m\u001b[0;34m\u001b[0m\u001b[0m\n",
       "\u001b[0;31mDocstring:\u001b[0m\n",
       "Return a list of the substrings in the string, using sep as the separator string.\n",
       "\n",
       "  sep\n",
       "    The separator used to split the string.\n",
       "\n",
       "    When set to None (the default value), will split on any whitespace\n",
       "    character (including \\n \\r \\t \\f and spaces) and will discard\n",
       "    empty strings from the result.\n",
       "  maxsplit\n",
       "    Maximum number of splits.\n",
       "    -1 (the default value) means no limit.\n",
       "\n",
       "Splitting starts at the front of the string and works to the end.\n",
       "\n",
       "Note, str.split() is mainly useful for data that has been intentionally\n",
       "delimited.  With natural text that includes punctuation, consider using\n",
       "the regular expression module.\n",
       "\u001b[0;31mType:\u001b[0m      builtin_function_or_method"
      ]
     },
     "metadata": {},
     "output_type": "display_data"
    }
   ],
   "source": [
    "bucket.split?"
   ]
  },
  {
   "cell_type": "code",
   "execution_count": 235,
   "id": "2f2386d0-0832-4425-8b5f-ad79fb075998",
   "metadata": {},
   "outputs": [
    {
     "data": {
      "text/plain": [
       "'Veg,Egg,Bread,Fruit,Soya,Milk,Chocolates'"
      ]
     },
     "execution_count": 235,
     "metadata": {},
     "output_type": "execute_result"
    }
   ],
   "source": [
    "bucket"
   ]
  },
  {
   "cell_type": "code",
   "execution_count": 236,
   "id": "bff2600e-638a-45c4-8855-598b25970cca",
   "metadata": {},
   "outputs": [],
   "source": [
    "newbucket = bucket.split(\",\",3)"
   ]
  },
  {
   "cell_type": "code",
   "execution_count": 237,
   "id": "1b24496d-5e1b-44f3-84b2-6989fa234cd7",
   "metadata": {},
   "outputs": [
    {
     "data": {
      "text/plain": [
       "'Veg,Egg,Bread,Fruit,Soya,Milk,Chocolates'"
      ]
     },
     "execution_count": 237,
     "metadata": {},
     "output_type": "execute_result"
    }
   ],
   "source": [
    "bucket"
   ]
  },
  {
   "cell_type": "code",
   "execution_count": 238,
   "id": "72fc0878-1134-45ce-9b56-84ee42e86573",
   "metadata": {},
   "outputs": [
    {
     "data": {
      "text/plain": [
       "['Veg', 'Egg', 'Bread', 'Fruit,Soya,Milk,Chocolates']"
      ]
     },
     "execution_count": 238,
     "metadata": {},
     "output_type": "execute_result"
    }
   ],
   "source": [
    "newbucket"
   ]
  },
  {
   "cell_type": "code",
   "execution_count": 240,
   "id": "b608d94b-b45b-4171-aebf-d84058ccc9e1",
   "metadata": {},
   "outputs": [],
   "source": [
    "# control structure"
   ]
  },
  {
   "cell_type": "code",
   "execution_count": 241,
   "id": "1bbdc543-a40d-4397-b8de-53be71f382ab",
   "metadata": {},
   "outputs": [],
   "source": [
    "# if, else, elif"
   ]
  },
  {
   "cell_type": "code",
   "execution_count": null,
   "id": "1b53e6d4-d156-4fc3-a703-44750b0e5619",
   "metadata": {},
   "outputs": [],
   "source": [
    "if logical_condition:\n",
    "    print\n",
    "else:\n",
    "    print"
   ]
  },
  {
   "cell_type": "code",
   "execution_count": null,
   "id": "f2fc64ab-82dc-4320-9f9f-0fb8e317cc9a",
   "metadata": {},
   "outputs": [],
   "source": [
    "if logical_condition:\n",
    "    print\n",
    "elif logical_condition:\n",
    "    print\n",
    "else:\n",
    "    print"
   ]
  },
  {
   "cell_type": "code",
   "execution_count": 243,
   "id": "079fa5ca-23e7-48e7-a3b8-8481fa021da5",
   "metadata": {},
   "outputs": [
    {
     "name": "stdout",
     "output_type": "stream",
     "text": [
      "NA\n"
     ]
    }
   ],
   "source": [
    "age = 17\n",
    "if age >= 18:\n",
    "    print(\"eligible for Vote\")\n",
    "else:\n",
    "    print(\"NA\")"
   ]
  },
  {
   "cell_type": "code",
   "execution_count": 3,
   "id": "c3199bdf-d5fc-4915-bf1e-a1d593e1610f",
   "metadata": {},
   "outputs": [
    {
     "name": "stdin",
     "output_type": "stream",
     "text": [
      "Enter a number:  0\n"
     ]
    },
    {
     "name": "stdout",
     "output_type": "stream",
     "text": [
      "Zero\n"
     ]
    }
   ],
   "source": [
    "num = int(input(\"Enter a number: \" ))\n",
    "if num > 0:\n",
    "    print(\"Positive\")\n",
    "elif num == 0:\n",
    "    print(\"Zero\")\n",
    "else:\n",
    "    print(\"negative\")"
   ]
  },
  {
   "cell_type": "code",
   "execution_count": 6,
   "id": "4d37bfd7-525f-4fc4-96d2-ba058fad3321",
   "metadata": {},
   "outputs": [
    {
     "name": "stdin",
     "output_type": "stream",
     "text": [
      "Enter a number:  -8\n"
     ]
    },
    {
     "name": "stdout",
     "output_type": "stream",
     "text": [
      "Negative\n"
     ]
    }
   ],
   "source": [
    "num = int(input(\"Enter a number: \" ))\n",
    "if num >= 0:\n",
    "    if num == 0:\n",
    "        print(\"Zero\")\n",
    "    else:\n",
    "        print(\"Positive\")\n",
    "else:\n",
    "    print(\"Negative\")"
   ]
  },
  {
   "cell_type": "code",
   "execution_count": 7,
   "id": "1b0fda4f-1dc5-4e0a-8fd3-e442f9dd690c",
   "metadata": {},
   "outputs": [],
   "source": [
    "# For loop:\n",
    "\n",
    "# for yourVariable in Container:\n",
    "    # print(yourVariable)"
   ]
  },
  {
   "cell_type": "code",
   "execution_count": 8,
   "id": "75e8d1a9-a41f-4f65-a844-7a2fa9bd81cb",
   "metadata": {},
   "outputs": [
    {
     "name": "stdout",
     "output_type": "stream",
     "text": [
      "P\n",
      "r\n",
      "o\n",
      "g\n",
      "r\n",
      "a\n",
      "m\n",
      "m\n",
      "i\n",
      "n\n",
      "g\n"
     ]
    }
   ],
   "source": [
    "for char in 'Programming':\n",
    "    print(char)"
   ]
  },
  {
   "cell_type": "code",
   "execution_count": 9,
   "id": "4c354a08-7f01-49f1-98c5-0f2f87e39dfb",
   "metadata": {},
   "outputs": [
    {
     "name": "stdout",
     "output_type": "stream",
     "text": [
      "11\n",
      "13\n",
      "15\n",
      "17\n",
      "19\n"
     ]
    }
   ],
   "source": [
    "for num in range(11,20,2):\n",
    "    print(num)"
   ]
  },
  {
   "cell_type": "code",
   "execution_count": 10,
   "id": "aa818ee6-8288-4bfb-a1e7-6d3549f64e16",
   "metadata": {},
   "outputs": [
    {
     "name": "stdout",
     "output_type": "stream",
     "text": [
      "50\n",
      "45\n",
      "40\n",
      "35\n",
      "30\n",
      "25\n",
      "20\n",
      "15\n",
      "10\n"
     ]
    }
   ],
   "source": [
    "for num in range(50,5,-5):\n",
    "    print(num)"
   ]
  },
  {
   "cell_type": "code",
   "execution_count": 11,
   "id": "d5ba5e08-3b72-460c-bcab-818ea7884b8c",
   "metadata": {},
   "outputs": [
    {
     "name": "stdout",
     "output_type": "stream",
     "text": [
      "50\n",
      "45\n",
      "40\n",
      "35\n",
      "30\n",
      "25\n",
      "20\n",
      "15\n",
      "10\n",
      "5\n"
     ]
    }
   ],
   "source": [
    "for num in range(50,4,-5):\n",
    "    print(num)"
   ]
  },
  {
   "cell_type": "code",
   "execution_count": 14,
   "id": "2fdc97c6-5ef1-409b-bcd3-a76769e2c6bd",
   "metadata": {},
   "outputs": [
    {
     "name": "stdout",
     "output_type": "stream",
     "text": [
      "10\n",
      "9\n",
      "8\n",
      "7\n",
      "6\n",
      "5\n",
      "4\n",
      "3\n",
      "2\n",
      "1\n",
      "0\n"
     ]
    }
   ],
   "source": [
    "for num in range(10,-1,-1):\n",
    "    print(num)"
   ]
  },
  {
   "cell_type": "code",
   "execution_count": null,
   "id": "2e5d7dae-0c6c-4e58-b25e-0a0280d88c8a",
   "metadata": {},
   "outputs": [],
   "source": []
  }
 ],
 "metadata": {
  "kernelspec": {
   "display_name": "Python 3 (ipykernel)",
   "language": "python",
   "name": "python3"
  },
  "language_info": {
   "codemirror_mode": {
    "name": "ipython",
    "version": 3
   },
   "file_extension": ".py",
   "mimetype": "text/x-python",
   "name": "python",
   "nbconvert_exporter": "python",
   "pygments_lexer": "ipython3",
   "version": "3.12.7"
  }
 },
 "nbformat": 4,
 "nbformat_minor": 5
}
